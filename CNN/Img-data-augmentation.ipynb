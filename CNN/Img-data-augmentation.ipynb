{
 "cells": [
  {
   "cell_type": "code",
   "execution_count": 2,
   "metadata": {
    "collapsed": true
   },
   "outputs": [],
   "source": [
    "from keras.preprocessing.image import ImageDataGenerator,img_to_array,array_to_img,load_img\n",
    "\n"
   ]
  },
  {
   "cell_type": "code",
   "execution_count": 31,
   "outputs": [],
   "source": [
    "datagen = ImageDataGenerator(\n",
    "    rotation_range= 30,\n",
    "    # width_shift_range= 0.5,\n",
    "    # height_shift_range= 0.5,\n",
    "    brightness_range=[0,0.5],\n",
    "    # shear_range=45,\n",
    "    # zoom_range=[0,0.1],\n",
    "    fill_mode=\"nearest\",\n",
    "    horizontal_flip = True,\n",
    "    vertical_flip = True,\n",
    "    data_format=\"channels_last\",\n",
    "    validation_split=0.2\n",
    "\n",
    "\n",
    ")"
   ],
   "metadata": {
    "collapsed": false,
    "pycharm": {
     "name": "#%%\n"
    }
   }
  },
  {
   "cell_type": "code",
   "execution_count": 15,
   "outputs": [],
   "source": [
    "img = load_img(\"../DATASET/Img/Dog_Cat/Cat/5.jpg\",target_size=(300,300))\n",
    "X = img_to_array(img)"
   ],
   "metadata": {
    "collapsed": false,
    "pycharm": {
     "name": "#%%\n"
    }
   }
  },
  {
   "cell_type": "code",
   "execution_count": 16,
   "outputs": [],
   "source": [
    "X = X.reshape((1,)+X.shape)"
   ],
   "metadata": {
    "collapsed": false,
    "pycharm": {
     "name": "#%%\n"
    }
   }
  },
  {
   "cell_type": "code",
   "execution_count": 32,
   "outputs": [],
   "source": [
    "i = 0\n",
    "for batch in datagen.flow(\n",
    "    X,\n",
    "    batch_size=5,\n",
    "    save_format=\".jpg\",\n",
    "    save_to_dir=\"result\",\n",
    "    save_prefix=\"cat\"\n",
    "):\n",
    "    i+=1\n",
    "    if i == 10:\n",
    "        break"
   ],
   "metadata": {
    "collapsed": false,
    "pycharm": {
     "name": "#%%\n"
    }
   }
  }
 ],
 "metadata": {
  "kernelspec": {
   "display_name": "Python 3",
   "language": "python",
   "name": "python3"
  },
  "language_info": {
   "codemirror_mode": {
    "name": "ipython",
    "version": 2
   },
   "file_extension": ".py",
   "mimetype": "text/x-python",
   "name": "python",
   "nbconvert_exporter": "python",
   "pygments_lexer": "ipython2",
   "version": "2.7.6"
  }
 },
 "nbformat": 4,
 "nbformat_minor": 0
}