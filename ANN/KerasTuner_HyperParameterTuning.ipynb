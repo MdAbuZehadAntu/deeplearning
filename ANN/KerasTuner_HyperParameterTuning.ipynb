{
 "cells": [
  {
   "cell_type": "code",
   "execution_count": 2,
   "metadata": {
    "collapsed": true
   },
   "outputs": [],
   "source": [
    "import tensorflow as tf\n",
    "import keras\n",
    "import pandas as pd\n"
   ]
  },
  {
   "cell_type": "code",
   "execution_count": 3,
   "outputs": [
    {
     "name": "stdout",
     "output_type": "stream",
     "text": [
      "     T    TM   Tm     SLP     H   VV    V    VM      PM 2.5\n",
      "0  7.4   9.8  4.8  1017.6  93.0  0.5  4.3   9.4  219.720833\n",
      "1  7.8  12.7  4.4  1018.5  87.0  0.6  4.4  11.1  182.187500\n",
      "2  6.7  13.4  2.4  1019.4  82.0  0.6  4.8  11.1  154.037500\n"
     ]
    }
   ],
   "source": [
    "# loading the dataset\n",
    "data = pd.read_csv(\"../DATASET/CSV/Real_Combine.csv\")\n",
    "print(data.head(3))"
   ],
   "metadata": {
    "collapsed": false,
    "pycharm": {
     "name": "#%%\n"
    }
   }
  },
  {
   "cell_type": "code",
   "execution_count": 5,
   "outputs": [],
   "source": [
    "# pre-process\n",
    "X = data.iloc[:,:-1]\n",
    "y = data.iloc[:,-1]"
   ],
   "metadata": {
    "collapsed": false,
    "pycharm": {
     "name": "#%%\n"
    }
   }
  },
  {
   "cell_type": "code",
   "execution_count": 6,
   "outputs": [],
   "source": [
    "def build_model(hp):\n",
    "    model = keras.Sequential()\n",
    "    for i in range(hp.Int(\"num_layers\",2,20)):\n",
    "        model.add(keras.layers.Dense(units=hp.Int(\"units_\"+str(i),\n",
    "                                                  min_value=32,\n",
    "                                                  max_value=512,\n",
    "                                                  step=32),\n",
    "                                     activation=\"relu\"))\n",
    "    model.add(keras.layers.Dense(units=1,activation=\"linear\"))\n",
    "    model.compile(\n",
    "        optimizer=keras.optimizers.Adam(\n",
    "            hp.Choice(\"learning_rate\",[1e-2,1e-3,1e-4])),\n",
    "\n",
    "        loss = \"mean_absolute_error\",\n",
    "        metrics = [\"mean_absolute_error\"]\n",
    "\n",
    "    )\n",
    "\n",
    "    return model\n"
   ],
   "metadata": {
    "collapsed": false,
    "pycharm": {
     "name": "#%%\n"
    }
   }
  },
  {
   "cell_type": "code",
   "execution_count": 14,
   "outputs": [],
   "source": [
    "import keras_tuner\n",
    "tuner = keras_tuner.RandomSearch(\n",
    "    build_model,\n",
    "    objective=\"val_mean_absolute_error\",\n",
    "    max_trials = 5,\n",
    "    executions_per_trial = 3,\n",
    "    overwrite=True,\n",
    "    directory = \"HP_result\",\n",
    "    project_name = \"Air_quality_index\"\n",
    "\n",
    ")"
   ],
   "metadata": {
    "collapsed": false,
    "pycharm": {
     "name": "#%%\n"
    }
   }
  },
  {
   "cell_type": "code",
   "execution_count": 9,
   "outputs": [
    {
     "name": "stdout",
     "output_type": "stream",
     "text": [
      "Search space summary\n",
      "Default search space size: 4\n",
      "num_layers (Int)\n",
      "{'default': None, 'conditions': [], 'min_value': 2, 'max_value': 20, 'step': 1, 'sampling': None}\n",
      "units_0 (Int)\n",
      "{'default': None, 'conditions': [], 'min_value': 32, 'max_value': 512, 'step': 32, 'sampling': None}\n",
      "units_1 (Int)\n",
      "{'default': None, 'conditions': [], 'min_value': 32, 'max_value': 512, 'step': 32, 'sampling': None}\n",
      "learning_rate (Choice)\n",
      "{'default': 0.01, 'conditions': [], 'values': [0.01, 0.001, 0.0001], 'ordered': True}\n"
     ]
    }
   ],
   "source": [
    "tuner.search_space_summary()"
   ],
   "metadata": {
    "collapsed": false,
    "pycharm": {
     "name": "#%%\n"
    }
   }
  },
  {
   "cell_type": "code",
   "execution_count": 10,
   "outputs": [],
   "source": [
    "from sklearn.model_selection import train_test_split\n",
    "X_train,X_test,y_train,y_test = train_test_split(X,y,test_size=0.3,random_state=0)\n",
    "\n"
   ],
   "metadata": {
    "collapsed": false,
    "pycharm": {
     "name": "#%%\n"
    }
   }
  },
  {
   "cell_type": "code",
   "execution_count": 15,
   "outputs": [
    {
     "name": "stdout",
     "output_type": "stream",
     "text": [
      "Trial 5 Complete [00h 00m 37s]\n",
      "val_mean_absolute_error: 44.42449188232422\n",
      "\n",
      "Best val_mean_absolute_error So Far: 41.67247009277344\n",
      "Total elapsed time: 00h 01m 51s\n",
      "INFO:tensorflow:Oracle triggered exit\n"
     ]
    }
   ],
   "source": [
    "tuner.search(X_train,y_train,epochs=50,validation_data = (X_test,y_test))"
   ],
   "metadata": {
    "collapsed": false,
    "pycharm": {
     "name": "#%%\n"
    }
   }
  },
  {
   "cell_type": "code",
   "execution_count": 16,
   "outputs": [
    {
     "name": "stdout",
     "output_type": "stream",
     "text": [
      "Results summary\n",
      "Results in HP_result\\Air_quality_index\n",
      "Showing 10 best trials\n",
      "Objective(name='val_mean_absolute_error', direction='min')\n",
      "Trial summary\n",
      "Hyperparameters:\n",
      "num_layers: 5\n",
      "units_0: 224\n",
      "units_1: 96\n",
      "learning_rate: 0.01\n",
      "units_2: 32\n",
      "units_3: 32\n",
      "units_4: 32\n",
      "Score: 41.67247009277344\n",
      "Trial summary\n",
      "Hyperparameters:\n",
      "num_layers: 10\n",
      "units_0: 384\n",
      "units_1: 64\n",
      "learning_rate: 0.01\n",
      "units_2: 384\n",
      "units_3: 448\n",
      "units_4: 320\n",
      "units_5: 128\n",
      "units_6: 448\n",
      "units_7: 224\n",
      "units_8: 160\n",
      "units_9: 128\n",
      "units_10: 480\n",
      "units_11: 192\n",
      "units_12: 256\n",
      "units_13: 192\n",
      "units_14: 96\n",
      "units_15: 480\n",
      "units_16: 32\n",
      "units_17: 384\n",
      "Score: 42.14657465616862\n",
      "Trial summary\n",
      "Hyperparameters:\n",
      "num_layers: 9\n",
      "units_0: 128\n",
      "units_1: 480\n",
      "learning_rate: 0.01\n",
      "units_2: 480\n",
      "units_3: 160\n",
      "units_4: 64\n",
      "units_5: 256\n",
      "units_6: 352\n",
      "units_7: 480\n",
      "units_8: 256\n",
      "units_9: 224\n",
      "units_10: 224\n",
      "units_11: 480\n",
      "units_12: 512\n",
      "units_13: 256\n",
      "units_14: 480\n",
      "units_15: 288\n",
      "units_16: 128\n",
      "units_17: 288\n",
      "Score: 42.37308247884115\n",
      "Trial summary\n",
      "Hyperparameters:\n",
      "num_layers: 18\n",
      "units_0: 480\n",
      "units_1: 128\n",
      "learning_rate: 0.01\n",
      "units_2: 128\n",
      "units_3: 448\n",
      "units_4: 224\n",
      "units_5: 32\n",
      "units_6: 32\n",
      "units_7: 32\n",
      "units_8: 32\n",
      "units_9: 32\n",
      "units_10: 32\n",
      "units_11: 32\n",
      "units_12: 32\n",
      "units_13: 32\n",
      "units_14: 32\n",
      "units_15: 32\n",
      "units_16: 32\n",
      "units_17: 32\n",
      "Score: 42.58076095581055\n",
      "Trial summary\n",
      "Hyperparameters:\n",
      "num_layers: 17\n",
      "units_0: 480\n",
      "units_1: 448\n",
      "learning_rate: 0.0001\n",
      "units_2: 320\n",
      "units_3: 448\n",
      "units_4: 192\n",
      "units_5: 64\n",
      "units_6: 320\n",
      "units_7: 160\n",
      "units_8: 128\n",
      "units_9: 64\n",
      "units_10: 352\n",
      "units_11: 288\n",
      "units_12: 224\n",
      "units_13: 352\n",
      "units_14: 288\n",
      "units_15: 320\n",
      "units_16: 256\n",
      "units_17: 320\n",
      "Score: 44.42449188232422\n"
     ]
    }
   ],
   "source": [
    "tuner.results_summary()"
   ],
   "metadata": {
    "collapsed": false,
    "pycharm": {
     "name": "#%%\n"
    }
   }
  },
  {
   "cell_type": "code",
   "execution_count": null,
   "outputs": [],
   "source": [],
   "metadata": {
    "collapsed": false,
    "pycharm": {
     "name": "#%%\n"
    }
   }
  }
 ],
 "metadata": {
  "kernelspec": {
   "display_name": "Python 3",
   "language": "python",
   "name": "python3"
  },
  "language_info": {
   "codemirror_mode": {
    "name": "ipython",
    "version": 2
   },
   "file_extension": ".py",
   "mimetype": "text/x-python",
   "name": "python",
   "nbconvert_exporter": "python",
   "pygments_lexer": "ipython2",
   "version": "2.7.6"
  }
 },
 "nbformat": 4,
 "nbformat_minor": 0
}